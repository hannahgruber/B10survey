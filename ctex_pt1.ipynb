{
 "cells": [
  {
   "cell_type": "code",
   "execution_count": 12,
   "metadata": {},
   "outputs": [],
   "source": [
    "# importing packages and setting constants\n",
    "\n",
    "import pandas as pd\n",
    "import numpy as np\n",
    "import astropy.constants as const\n",
    "from astropy.table import Table\n",
    "from scipy import integrate\n",
    "import csv\n",
    "\n",
    "h=6.626196*10**(-27)\n",
    "c=2.997924562*10**(10)\n",
    "k=1.380622*10**(-16)\n",
    "x=h*c/k\n",
    "Tcmb=3"
   ]
  },
  {
   "cell_type": "code",
   "execution_count": null,
   "metadata": {},
   "outputs": [],
   "source": [
    "# making dataframe from energy level data file\n",
    "\n",
    "fp='/Users/hannahgruber/Documents/ctex scripts/dnc_data.csv'\n",
    "dncfile = pd.read_csv(fp,header=None)\n",
    "dncfile"
   ]
  },
  {
   "cell_type": "code",
   "execution_count": 152,
   "metadata": {},
   "outputs": [],
   "source": [
    "# making dataframe from energy level data file\n",
    "\n",
    "fp='/Users/hannahgruber/Documents/ctex scripts/dnc_data.csv'\n",
    "dncfile = pd.read_csv(fp,header=None)\n",
    "dncfile\n",
    "\n",
    "g_u=[1]\n",
    "E_u=[0.000]\n",
    "\n",
    "nu_ul=dncfile.iloc[:-1,0].to_numpy()\n",
    "g_read=dncfile.iloc[:-1,5].to_numpy()\n",
    "E_read=dncfile.iloc[1:,4].to_numpy()*x\n",
    "\n",
    "g_u.extend(g_read)\n",
    "E_u.extend(E_read)\n",
    "\n",
    "nu_21=nu_ul[0]*(10**6) # 1-0 transition is element 0, 2-1 transition is element 1\n",
    "g_2=g_u[1]\n",
    "E_2=E_u[1]"
   ]
  },
  {
   "cell_type": "code",
   "execution_count": 4,
   "metadata": {},
   "outputs": [],
   "source": [
    "'''\n",
    "create arrays for taupk and dv\n",
    "sample small grid below\n",
    "\n",
    "taupk=np.arange(.001,.02,.009)\n",
    "dv=np.arange(.3,.4,.1)\n",
    "'''\n",
    "\n",
    "# i,j=np.meshgrid(taupk,dv) # using numpy technique to create a grid... \n",
    "# pretty sure this creates 2 arrays that have the list of points\n",
    "# i would be the taupk coords, written as many times as i need to match it with each dv in j"
   ]
  },
  {
   "cell_type": "code",
   "execution_count": 15,
   "metadata": {},
   "outputs": [],
   "source": [
    "taupk=np.logspace(.001,10,10000)\n",
    "dv=np.logspace(.15,.99,10000)"
   ]
  },
  {
   "cell_type": "code",
   "execution_count": 17,
   "metadata": {},
   "outputs": [],
   "source": [
    "# reads in intensity and velocity offsets for hyperfine lines and creates range of v\n",
    "\n",
    "fp2='/Users/hannahgruber/Documents/ctex scripts/dnc_vR.csv'\n",
    "df2=pd.read_csv(fp2,header=None)\n",
    "df2\n",
    "\n",
    "Ri=df2.iloc[:,1].to_numpy()\n",
    "vi=df2.iloc[:,0].to_numpy()\n",
    "\n",
    "for delv in dv:\n",
    "    sigma_v=dv/((8*np.log(2))**(1/2))\n",
    "vmin=min(vi)-(3*sigma_v)\n",
    "vmax=max(vi)+(3*sigma_v)"
   ]
  },
  {
   "cell_type": "code",
   "execution_count": 6,
   "metadata": {},
   "outputs": [],
   "source": [
    "sigma_v=dv/((8*np.log(2))**(1/2))\n",
    "vmin=min(vi)-(3*sigma_v)\n",
    "vmax=max(vi)+(3*sigma_v)"
   ]
  },
  {
   "cell_type": "code",
   "execution_count": 7,
   "metadata": {},
   "outputs": [],
   "source": [
    "# calculate equivalent width based on velocity and taupk\n",
    "\n",
    "def W_v():\n",
    "    # W_v=[]\n",
    "    z=[]\n",
    "    for delv in dv:\n",
    "        sigma_v=delv/((8*np.log(2))**(1/2))\n",
    "        vmin=min(vi)-(4*sigma_v)\n",
    "        vmax=max(vi)+(4*sigma_v)\n",
    "        v=np.arange(vmin,vmax,.01)\n",
    "        for t in taupk:\n",
    "            y=[]\n",
    "            for vel in v:\n",
    "                tau=t*np.sum(Ri*np.exp(-(4*np.log(2))*((vel-vi)**2)/(delv**2)))\n",
    "                y.append(1-np.exp(-tau))\n",
    "            # W_v.append(integrate.simpson(y,x=v,axis=0))\n",
    "            W_v=integrate.simpson(y,x=v,axis=0)\n",
    "            z.append([delv,t,W_v])\n",
    "    return z\n",
    "W_v()"
   ]
  },
  {
   "cell_type": "code",
   "execution_count": 8,
   "metadata": {},
   "outputs": [],
   "source": [
    "# makes equiv width into dataframe, and then into a csv file\n",
    "\n",
    "data=W_v()\n",
    "df_W=pd.DataFrame(data,columns=[\"dv\",\"taupk\",\"W_v\"])\n",
    "df_W\n",
    "\n",
    "df_W.to_csv(\"W_v_table.csv\", index=False)"
   ]
  }
 ],
 "metadata": {
  "kernelspec": {
   "display_name": "base",
   "language": "python",
   "name": "python3"
  },
  "language_info": {
   "codemirror_mode": {
    "name": "ipython",
    "version": 3
   },
   "file_extension": ".py",
   "mimetype": "text/x-python",
   "name": "python",
   "nbconvert_exporter": "python",
   "pygments_lexer": "ipython3",
   "version": "3.11.5"
  },
  "orig_nbformat": 4
 },
 "nbformat": 4,
 "nbformat_minor": 2
}
